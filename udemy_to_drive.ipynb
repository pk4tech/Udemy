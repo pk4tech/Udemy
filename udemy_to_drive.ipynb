{
  "nbformat": 4,
  "nbformat_minor": 0,
  "metadata": {
    "colab": {
      "name": "udemy-to-drive.ipynb",
      "provenance": [],
      "collapsed_sections": [],
      "authorship_tag": "ABX9TyO7Jpb2nPMYIm0Sb6QCPpG1",
      "include_colab_link": true
    },
    "kernelspec": {
      "name": "python3",
      "display_name": "Python 3"
    }
  },
  "cells": [
    {
      "cell_type": "markdown",
      "metadata": {
        "id": "view-in-github",
        "colab_type": "text"
      },
      "source": [
        "<a href=\"https://colab.research.google.com/github.com/pk4tech/Udemy/edit/master/udemy_to_drive.ipynb\" target=\"_parent\"><img src=\"https://colab.research.google.com/assets/colab-badge.svg\" alt=\"Open In Colab\"/></a>"
      ]
    },
    {
      "cell_type": "code",
      "metadata": {
        "id": "rix-SFzw9PIv",
        "colab_type": "code",
        "cellView": "form",
        "colab": {}
      },
      "source": [
        "#@markdown <h3>⬅ Run This Cell to Install Gitpython \n",
        "!pip install gitpython"
      ],
      "execution_count": 0,
      "outputs": []
    },
    {
      "cell_type": "code",
      "metadata": {
        "id": "lLfL35ZP9D9y",
        "colab_type": "code",
        "cellView": "form",
        "colab": {}
      },
      "source": [
        "#@markdown <h3>⬅ Run This Cell to  Mount Gdrive\n",
        "from google.colab import drive\n",
        "drive.mount('/content/drive')"
      ],
      "execution_count": 0,
      "outputs": []
    },
    {
      "cell_type": "code",
      "metadata": {
        "id": "euGKuAlQ9Yuz",
        "colab_type": "code",
        "cellView": "form",
        "colab": {}
      },
      "source": [
        "#@markdown <h3>⬅ Run This Cell to Clone the Github Repo\n",
        "import git\n",
        "import os\n",
        "git.Git(\"/content\").clone(\"https://github.com/shel404/udemy-dl.git\")\n",
        "os.chdir(\"/content/udemy-dl\")"
      ],
      "execution_count": 0,
      "outputs": []
    },
    {
      "cell_type": "code",
      "metadata": {
        "id": "ksYZcRPh9nVI",
        "colab_type": "code",
        "cellView": "form",
        "colab": {}
      },
      "source": [
        "#@markdown <h3>⬅ Run This Cell to Required Package\n",
        "!pip install -r requirements.txt"
      ],
      "execution_count": 0,
      "outputs": []
    },
    {
      "cell_type": "code",
      "metadata": {
        "id": "Wr5aTnvFIDRh",
        "colab_type": "code",
        "cellView": "form",
        "colab": {}
      },
      "source": [
        "#@markdown <h3>Paste your access token in the textbox ⬇ and run this cell\n",
        "Access_Token = \"\" #@param {type:\"string\"}\n",
        "f = open(\"cookie.txt\", \"w\")\n",
        "f.write(f'access_token={Access_Token}')\n",
        "f.close()"
      ],
      "execution_count": 0,
      "outputs": []
    },
    {
      "cell_type": "code",
      "metadata": {
        "id": "PXSMAP5m9wWH",
        "colab_type": "code",
        "cellView": "form",
        "colab": {}
      },
      "source": [
        "#@markdown <h3>Paste the course link ⬇ and run\n",
        "Course_Link = \"\" #@param {type:\"string\"}\n",
        "!python udemy-dl.py $Course_Link -k cookie.txt -o \"/content/drive/My Drive\""
      ],
      "execution_count": 0,
      "outputs": []
    }
  ]
}
